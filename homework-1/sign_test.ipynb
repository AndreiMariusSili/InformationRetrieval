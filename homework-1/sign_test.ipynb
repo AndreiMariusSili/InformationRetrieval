{
 "cells": [
  {
   "cell_type": "markdown",
   "metadata": {},
   "source": [
    "### Sign Test"
   ]
  },
  {
   "cell_type": "markdown",
   "metadata": {},
   "source": [
    "We first perform a sign test to see how much agreement there is between offline and online evaluation measures. Since we are using only the subpopulation for which at least one offline evaluation metric has resulted in the experimental algorithm (E) being preferred, we would expect a substantial proportion of the pairs to favour E according to online evaluation measures as well. \n",
    "\n",
    "The table below shows that the random click model does not agree at all with offline evaluation measures, as there are actually more pairs in which P is the winner. The simple dependent model, is much more in agreement. We can reject the null hypothesis, that the model is indiferent between E and P at a significance level of 1% ($p-value=0.000$), although still in only 70% of the pairs does E emerge as the winner.\n",
    "\n",
    "It was to be expected that a random click model evaluation would not produce any significant results, since the distribution of clicks is uniform. In effect, this model does not take into account any information about the relevance of the documents, whereas offline measures are constructed with relevance at the center of attention. There are also good reasons for the Simple Dependent Click Model to achieve less than completely agreeable proportion of wins for E, which have to do with the choice of offline metrics used. For example, while nDCG and ERR accomodate graded relevance levels, with ERR making the best efforts in this direction to model user behaviour, AP only treats relevance as binary, so there is no room for emulating nuanced user behaviour. \n",
    "\n",
    "|                               | Random Click Model(RCM)     | Simple Dependent Click Model(SDCM)  |\n",
    "| ----------------------------- |----------------------------:| -----------------------------------:|\n",
    "| p-value                       | 0.999                       | 0.000                               |\n",
    "| proportion of wins for E(p)   | 0.444                       | 0.699                               |"
   ]
  },
  {
   "cell_type": "code",
   "execution_count": null,
   "metadata": {
    "collapsed": true
   },
   "outputs": [],
   "source": []
  }
 ],
 "metadata": {
  "kernelspec": {
   "display_name": "Python 3",
   "language": "python",
   "name": "python3"
  },
  "language_info": {
   "codemirror_mode": {
    "name": "ipython",
    "version": 3
   },
   "file_extension": ".py",
   "mimetype": "text/x-python",
   "name": "python",
   "nbconvert_exporter": "python",
   "pygments_lexer": "ipython3",
   "version": "3.6.3"
  }
 },
 "nbformat": 4,
 "nbformat_minor": 2
}
