{
 "cells": [
  {
   "cell_type": "code",
   "execution_count": 4,
   "metadata": {},
   "outputs": [],
   "source": [
    "def compare_scores(scores):\n",
    "    \"\"\"Compare scores for P and E ranking pairs.\n",
    "    \n",
    "    Args:\n",
    "        scores: Dictionary of relevance scores\n",
    "    Returns:\n",
    "        Dictionary of difference between scores where E outperforms P\n",
    "    \"\"\"\n",
    "    delta_scores = {}\n",
    "    \n",
    "    for key in scores:\n",
    "        deltas = {}\n",
    "        score = scores[key]\n",
    "        \n",
    "        if score['AP_E_R'] > score['AP_P_R']:\n",
    "            deltas['AP_R'] = score['AP_E_R'] - score['AP_P_R']\n",
    "        \n",
    "        if score['AP_E_HR'] > score['AP_P_HR']:\n",
    "            deltas['AP_HR'] = score['AP_E_HR'] - score['AP_P_HR']\n",
    "        \n",
    "        if score['nDCG_E'] > score['nDCG_P']:\n",
    "            deltas['nDCG'] = score['nDCG_E'] - score['nDCG_P']\n",
    "            \n",
    "        if score['ERR_E'] > score['ERR_P']:\n",
    "            deltas['ERR'] = score['ERR_E'] - score['ERR_P']\n",
    "        \n",
    "        if deltas:\n",
    "            delta_scores[key] = deltas\n",
    "        \n",
    "    return delta_scores"
   ]
  }
 ],
 "metadata": {
  "kernelspec": {
   "display_name": "Python 3",
   "language": "python",
   "name": "python3"
  },
  "language_info": {
   "codemirror_mode": {
    "name": "ipython",
    "version": 3
   },
   "file_extension": ".py",
   "mimetype": "text/x-python",
   "name": "python",
   "nbconvert_exporter": "python",
   "pygments_lexer": "ipython3",
   "version": "3.6.4"
  }
 },
 "nbformat": 4,
 "nbformat_minor": 2
}
