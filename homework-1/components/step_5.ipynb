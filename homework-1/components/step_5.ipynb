{
 "cells": [
  {
   "cell_type": "code",
   "execution_count": 143,
   "metadata": {
    "collapsed": true
   },
   "outputs": [],
   "source": [
    "import collections as cl\n",
    "import random\n",
    "import numpy as np"
   ]
  },
  {
   "cell_type": "markdown",
   "metadata": {},
   "source": [
    "# 1. Random Click model (RCM)\n",
    "\n",
    "## $\\rho = \\frac{\\sum_{s\\in S}\\sum_{u\\in s}c_{u}^{(s)}}{\\sum_{s\\in S}\\vert S \\vert}$\n",
    "\n",
    "In other words, $\\rho = \\frac{ \\text{number of clicks}}{\\text{number of documents shown}}$"
   ]
  },
  {
   "cell_type": "code",
   "execution_count": 144,
   "metadata": {
    "collapsed": true
   },
   "outputs": [],
   "source": [
    "class RCM:\n",
    "    def __init__(self, log_filename):\n",
    "        log_file = open(log_filename)\n",
    "        self.probability = self.get_parameter(log_file)\n",
    "        \n",
    "    def _is_querry(self, line):\n",
    "        return line.split()[2].lower() == 'q'\n",
    "\n",
    "    def _get_url_list(self, line):\n",
    "        assert line.split()[2].lower() == 'q'\n",
    "        return line[5:]\n",
    "    \n",
    "    def get_parameter(self, training_data):\n",
    "        '''\n",
    "        (a) A method that learns the parameters of the model given a set of training data.\n",
    "        '''\n",
    "        documents_shown = 0\n",
    "        clicks = 0\n",
    "        for line in training_data:\n",
    "            if self._is_querry(line): # is querry\n",
    "                url_list = self._get_url_list(line)\n",
    "                number_of_urls = len(url_list)\n",
    "                documents_shown += number_of_urls\n",
    "            else:# is click\n",
    "                clicks += 1\n",
    "        return clicks / documents_shown\n",
    "    \n",
    "    def click_probabilities(self, urls):\n",
    "        '''\n",
    "        (b) A method that predicts the click probability given a ranked list of relevance labels.\n",
    "            For RCM, all links have the same probability.\n",
    "        '''\n",
    "        return [self.probability for i in range(0,len(urls))]\n",
    "    \n",
    "    def clicks(self, click_probabilities):\n",
    "        '''\n",
    "        (c) A method that decides - stochastically - whether a document is clicked based on their probabilities.\n",
    "        '''\n",
    "        return [np.random.binomial(1, prob) for prob in click_probabilities]\n",
    " \n",
    "        "
   ]
  },
  {
   "cell_type": "code",
   "execution_count": 145,
   "metadata": {},
   "outputs": [
    {
     "data": {
      "text/plain": [
       "[0, 0, 0, 0, 0, 0, 0, 0, 0, 0]"
      ]
     },
     "execution_count": 145,
     "metadata": {},
     "output_type": "execute_result"
    }
   ],
   "source": [
    "model = RCM(\"./../resources/YandexRelPredChallenge.txt\")\n",
    "model.clicks(model.click_probabilities([i for i in range(0,10)]))"
   ]
  },
  {
   "cell_type": "markdown",
   "metadata": {},
   "source": [
    "## 2. Simple Dependent Click Model (SDCM)"
   ]
  },
  {
   "cell_type": "code",
   "execution_count": 148,
   "metadata": {},
   "outputs": [],
   "source": [
    "class SDCM:\n",
    "    def __init__(self, log_filename):\n",
    "        self.MAX_REL = 2\n",
    "        log_file = open(log_filename)\n",
    "        self.rank_probabilities = self.get_parameters(log_file)\n",
    "        self.attractiveness = lambda x: (2**x-1) / 2**self.MAX_REL\n",
    "        \n",
    "    def _is_querry(self, line):\n",
    "        return line[2].lower() == 'q'\n",
    "\n",
    "    def _get_url_list(self, line):\n",
    "        assert line[2].lower() == 'q'\n",
    "        return line[5:]\n",
    "    \n",
    "    def get_rank(self, querry, click):\n",
    "        if click[3] not in querry[5:]: # weird..\n",
    "            return -1\n",
    "        else:\n",
    "            querry = querry[5:]\n",
    "            return querry.index(click[3])\n",
    "    \n",
    "    def get_parameters(self,training_data):\n",
    "        '''\n",
    "        (a) A method that learns the parameters of the model given a set of training data.\n",
    "        '''\n",
    "        last_clicked_rank= -1\n",
    "        last_querry = -1\n",
    "        \n",
    "        last_click_rank_counter = cl.Counter()\n",
    "        click_rank_counter = cl.Counter()\n",
    "        \n",
    "        for line in training_data:\n",
    "            line = line.split()\n",
    "            if self._is_querry(line): # is querry\n",
    "                last_querry = line\n",
    "                if last_clicked_rank != -1:  #the previusly click was the last one\n",
    "                    last_click_rank_counter[last_clicked_rank] += 1\n",
    "                    last_clicked_rank = -1  # we counted it, so we 'remove' it.\n",
    "            else:# is click\n",
    "                last_clicked_rank = self.get_rank(last_querry, line)\n",
    "                click_rank_counter[last_clicked_rank] += 1\n",
    "        # to take into consideration the last click in the log file.\n",
    "        if last_clicked_rank != -1:\n",
    "            last_click_rank_counter[last_clicked_rank] += 1\n",
    "            last_clicked_rank = -1  # we countend, so we 'remove' it.\n",
    "            \n",
    "        return 1 - np.array([last_click_rank_counter[r]/click_rank_counter[r] for r in range(0,10)])\n",
    "    \n",
    "    def get_atractiveness(self, urls):\n",
    "        '''\n",
    "        (b) A method that predicts the link atractiveness given a list of relevance labels.\n",
    "        '''\n",
    "        return [self.attractiveness(i) for i in urls]\n",
    "    \n",
    "    def clicks(self, atractiveness):\n",
    "        '''\n",
    "        (c) A method that decides - stochastically - whether a document is clicked based \n",
    "            on their atractiveness and probabilities.\n",
    "        '''\n",
    "        clicks = np.zeros(len(atractiveness))\n",
    "        for i, a in enumerate(atractiveness):\n",
    "            if np.random.binomial(1, a) == 1:\n",
    "                clicks[i] = 1\n",
    "                if np.random.binomial(1,self.rank_probabilities[i]) == 0: # we should not contiue\n",
    "                    break\n",
    "            else:\n",
    "                clicks[i] = 0\n",
    "        return clicks.astype(int).tolist()\n",
    " \n",
    "        "
   ]
  },
  {
   "cell_type": "code",
   "execution_count": 166,
   "metadata": {},
   "outputs": [
    {
     "data": {
      "text/plain": [
       "[1, 0, 0, 0, 0, 0, 0, 0, 0, 0]"
      ]
     },
     "execution_count": 166,
     "metadata": {},
     "output_type": "execute_result"
    }
   ],
   "source": [
    "model = SDCM(\"./../resources/YandexRelPredChallenge.txt\")\n",
    "model.clicks(model.get_atractiveness([2,2,1,0,1,2,0,0,1,1]))"
   ]
  }
 ],
 "metadata": {
  "kernelspec": {
   "display_name": "Python 3",
   "language": "python",
   "name": "python3"
  },
  "language_info": {
   "codemirror_mode": {
    "name": "ipython",
    "version": 3
   },
   "file_extension": ".py",
   "mimetype": "text/x-python",
   "name": "python",
   "nbconvert_exporter": "python",
   "pygments_lexer": "ipython3",
   "version": "3.6.3"
  }
 },
 "nbformat": 4,
 "nbformat_minor": 2
}
