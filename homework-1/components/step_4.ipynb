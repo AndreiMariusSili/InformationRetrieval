{
 "cells": [
  {
   "cell_type": "code",
   "execution_count": 126,
   "metadata": {},
   "outputs": [],
   "source": [
    "import collections as cl\n",
    "import random"
   ]
  },
  {
   "cell_type": "code",
   "execution_count": 127,
   "metadata": {},
   "outputs": [],
   "source": [
    "# Variables hold the interleaved ranking, and the teams.\n",
    "# The items are identified by the index in the interleaved ranking.\n",
    "rank_i, team_e, team_p = list(),list(),list()\n",
    "\n",
    "# Variable holds the scores of each team.\n",
    "clicks = {'stream': [], 'scores': {'E': 0, 'P': 0}}\n"
   ]
  },
  {
   "cell_type": "code",
   "execution_count": 128,
   "metadata": {},
   "outputs": [],
   "source": [
    "def team_draft_interleave(pair: Pair) -> (list, list, list):\n",
    "    \"\"\"Interleaves a pair of rankings using team draft method.\n",
    "        \n",
    "    Args:\n",
    "        pair: The pair of experimental and production rankings.\n",
    "    Returns:\n",
    "        Interleaved ranking and teams  \n",
    "    \"\"\"\n",
    "    global rank_i, team_e, team_p\n",
    "    rank_e, rank_p= pair.E, pair.P    \n",
    "    count_e, count_p = 0, 0\n",
    "        \n",
    "    # Algorithm is implemented according to slides, with some simplifications. Because all documents are\n",
    "    # assumed unique, the checks become simpler. Every time an item from one rank is added to the interleaved result,\n",
    "    # the item is added to the team and counter for that list is incremented. When both counters reach the length\n",
    "    # of the their respective rankings, both lists have been exhausted.\n",
    "    while count_e < len(rank_e) or count_p < len(rank_p):\n",
    "        pick_team_e = (len(team_e) < len(team_p)) or (len(team_e) == len(team_p) and random.choice((True, False)))\n",
    "        if pick_team_e:\n",
    "            rank_i.append(rank_e[count_e])\n",
    "            team_e.append(len(rank_i)-1)\n",
    "            count_e += 1\n",
    "        else:\n",
    "            rank_i.append(rank_p[count_p])\n",
    "            team_p.append(len(rank_i)-1)\n",
    "            count_p += 1\n",
    "    return rank_i, team_e, team_p"
   ]
  },
  {
   "cell_type": "code",
   "execution_count": 129,
   "metadata": {},
   "outputs": [],
   "source": [
    "def assign_click(index: int) -> str:\n",
    "    \"\"\"Assign simulated click to the owner of the item.\n",
    "    \n",
    "    Args:\n",
    "        index: The index of the item clicked.\n",
    "    Return:\n",
    "        A string 'E' or 'P' representing the owner of the item.\n",
    "    \"\"\"\n",
    "    global team_e, team_p, clicks\n",
    "    \n",
    "    clicks['stream'].append(index)\n",
    "    if index in team_e:\n",
    "        clicks['scores']['E'] += 1\n",
    "        return 'E'\n",
    "    elif index in team_p:\n",
    "        clicks['scores']['P'] += 1\n",
    "        return 'P'\n",
    "    else:\n",
    "        raise IndexError('Index {} not in either teams'.format(index))"
   ]
  },
  {
   "cell_type": "code",
   "execution_count": 133,
   "metadata": {},
   "outputs": [
    {
     "data": {
      "text/plain": [
       "{'scores': {'E': 14, 'P': 6},\n",
       " 'stream': [1, 0, 5, 4, 6, 5, 1, 5, 3, 6, 8, 5, 0, 8, 5, 5, 8, 3, 6, 7]}"
      ]
     },
     "execution_count": 133,
     "metadata": {},
     "output_type": "execute_result"
    }
   ],
   "source": [
    "### main ###\n",
    "\n",
    "Pair = cl.namedtuple('Pair' ,['P', 'E']) # for testing purposes\n",
    "ranking_pair = Pair((2,1,0,1,1), (1,0,1,2,1)) # actual main would probably loop over the ranking pairs generate at step 1\n",
    "\n",
    "team_draft_interleave(ranking_pair)\n",
    "\n",
    "for i in range(5):\n",
    "    assign_click(random.choice(range(9)))\n",
    "    \n",
    "clicks"
   ]
  },
  {
   "cell_type": "code",
   "execution_count": null,
   "metadata": {
    "collapsed": true
   },
   "outputs": [],
   "source": []
  }
 ],
 "metadata": {
  "kernelspec": {
   "display_name": "Python 3",
   "language": "python",
   "name": "python3"
  },
  "language_info": {
   "codemirror_mode": {
    "name": "ipython",
    "version": 3
   },
   "file_extension": ".py",
   "mimetype": "text/x-python",
   "name": "python",
   "nbconvert_exporter": "python",
   "pygments_lexer": "ipython3",
   "version": "3.6.3"
  }
 },
 "nbformat": 4,
 "nbformat_minor": 2
}
