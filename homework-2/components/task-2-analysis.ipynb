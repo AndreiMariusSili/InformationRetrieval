{
 "cells": [
  {
   "cell_type": "code",
   "execution_count": 1,
   "metadata": {},
   "outputs": [],
   "source": [
    "import pandas as pd\n",
    "from scipy import stats"
   ]
  },
  {
   "cell_type": "code",
   "execution_count": 2,
   "metadata": {},
   "outputs": [],
   "source": [
    "evaluation_measures = ['ndcg_cut_10', 'map_cut_1000', 'P_5', 'recall_1000']"
   ]
  },
  {
   "cell_type": "code",
   "execution_count": 3,
   "metadata": {},
   "outputs": [],
   "source": [
    "scores = {\n",
    "    'lsi': pd.DataFrame(columns=evaluation_measures),\n",
    "    'lda': pd.DataFrame(columns=evaluation_measures)\n",
    "}\n",
    "models = ['lsi', 'lda']\n",
    "for model in models:\n",
    "    with open('../trec_eval/results_test/{}.txt'.format(model), 'r') as file:\n",
    "        for line in file.readlines():\n",
    "            measure, query_id, score = line.split()\n",
    "            if measure in evaluation_measures and query_id != 'all':\n",
    "                scores[model].loc[query_id, measure] = float(score)"
   ]
  },
  {
   "cell_type": "code",
   "execution_count": 4,
   "metadata": {},
   "outputs": [
    {
     "name": "stdout",
     "output_type": "stream",
     "text": [
      "{'ndcg_cut_10': (-0.92919077730524824, 0.35881297763940856), 'map_cut_1000': (-1.2540903585913423, 0.21767467761244425), 'P_5': (-0.10461122233258627, 0.91724934726439966), 'recall_1000': (nan, nan)}\n"
     ]
    }
   ],
   "source": [
    "results = dict()\n",
    "for eval_measure in evaluation_measures:\n",
    "    lsi_values = scores['lsi'][eval_measure].values\n",
    "    lda_values = scores['lda'][eval_measure].values\n",
    "    \n",
    "    s,p = stats.ttest_rel(lsi_values, lda_values)\n",
    "    results[eval_measure] = (s, p)\n",
    "    \n",
    "print(results)"
   ]
  }
 ],
 "metadata": {
  "kernelspec": {
   "display_name": "Python 3",
   "language": "python",
   "name": "python3"
  },
  "language_info": {
   "codemirror_mode": {
    "name": "ipython",
    "version": 3
   },
   "file_extension": ".py",
   "mimetype": "text/x-python",
   "name": "python",
   "nbconvert_exporter": "python",
   "pygments_lexer": "ipython3",
   "version": "3.6.4"
  }
 },
 "nbformat": 4,
 "nbformat_minor": 2
}
