{
 "cells": [
  {
   "cell_type": "code",
   "execution_count": 1,
   "metadata": {
    "collapsed": true
   },
   "outputs": [],
   "source": [
    "import pyndri as pn\n",
    "import collections as cl\n",
    "import math"
   ]
  },
  {
   "cell_type": "code",
   "execution_count": 2,
   "metadata": {
    "collapsed": true
   },
   "outputs": [],
   "source": [
    "class TFIDF:\n",
    "    \"\"\"Scoring class for the tf-idf method.\n",
    "    \n",
    "    Attributes:\n",
    "        index: pyndry index for the entire collection.\n",
    "        inverted_index: dict of term frequencies per document.\n",
    "        col_freq: dict of term frequencies for the entire collection.\n",
    "        col_size: number of documents in the collection.\n",
    "        tf_transform: string denoting possible sublinear tf transformations. accepted values are: log\n",
    "    \"\"\"\n",
    "    \n",
    "    def __init__(self, index: pn.Index, inverted_index: cl.defaultdict(dict), col_freq: cl.defaultdict(int), tf_transform: str):\n",
    "        \"\"\"Initialize tf-idf scoring function.\n",
    "        \n",
    "        Args:\n",
    "            index: pyndry index for the entire collection.\n",
    "            inverted_index: dict of term frequencies per document.\n",
    "            col_freq: dict of term frequencies for the entire collection.\n",
    "            tf_transform: string denoting possible sublinear tf transformations. accepted values are: `log`\n",
    "        \"\"\"\n",
    "        self.index = index\n",
    "        self.inverted_index = inverted_index\n",
    "        self.col_freq = col_freq\n",
    "        self.col_size = index.maximum_document() - index.document_base()\n",
    "        self.tf_transform = tf_transform\n",
    "\n",
    "    def score(self, int_doc_id: int, query_term_id: int, doc_term_freq: float) -> float:\n",
    "        \"\"\"Scoring function for a document and a query term.\n",
    "\n",
    "        Args:\n",
    "            int_document_id: the document id\n",
    "            query_token_id: the query term id (assuming you have split the query to tokens)\n",
    "            document_term_freq: the document term frequency of the query term \n",
    "        \"\"\"\n",
    "        if self.tf_transform == 'log':\n",
    "            wtf = log_tf(doc_term_freq)\n",
    "        else:\n",
    "            raise ValueError('Unsupported term frequency transformation specified: {}'.format(self.tf_transform))\n",
    "        idf = self.idf(int_doc_id, query_term_id)\n",
    "        \n",
    "        \n",
    "        return wtf * idf\n",
    "    \n",
    "    def log_tf(doc_term_freq: int)-> float:\n",
    "        return 1 + math.log(doc_term_freq)\n",
    "    \n",
    "    def idf(self, int_doc_id: int, query_term_id: int) -> float:\n",
    "        return math.log(self.col_size) - math.log(self.df(query_term_id))\n",
    "    \n",
    "    def df(self, query_term_id: int) -> int:\n",
    "        return len(self.inverted_index[query_term_id])\n",
    "    \n",
    "    "
   ]
  }
 ],
 "metadata": {
  "kernelspec": {
   "display_name": "Python 3",
   "language": "python",
   "name": "python3"
  },
  "language_info": {
   "codemirror_mode": {
    "name": "ipython",
    "version": 3
   },
   "file_extension": ".py",
   "mimetype": "text/x-python",
   "name": "python",
   "nbconvert_exporter": "python",
   "pygments_lexer": "ipython3",
   "version": "3.6.3"
  }
 },
 "nbformat": 4,
 "nbformat_minor": 2
}
