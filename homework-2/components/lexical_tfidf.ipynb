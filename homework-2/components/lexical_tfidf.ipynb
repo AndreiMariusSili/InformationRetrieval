{
 "cells": [
  {
   "cell_type": "code",
   "execution_count": 2,
   "metadata": {
    "collapsed": true
   },
   "outputs": [],
   "source": [
    "import pyndri\n",
    "import collections\n",
    "import math"
   ]
  },
  {
   "cell_type": "code",
   "execution_count": 2,
   "metadata": {
    "collapsed": true
   },
   "outputs": [],
   "source": [
    "class TFIDF:\n",
    "    \"\"\"Scoring class for the tf-idf method.\n",
    "    \n",
    "    Note:\n",
    "        The log sublinear transform of the term frequencies is used as a benchmark.\n",
    "    \n",
    "    Attributes:\n",
    "        index: pyndry index for the entire collection.\n",
    "        inverted_index: dict of term frequencies per document.\n",
    "        col_freq: dict of term frequencies for the entire collection.\n",
    "        col_size: number of documents in the collection.\n",
    "        tf_transform: string denoting possible sublinear tf transformations. accepted values are: log\n",
    "    \"\"\"\n",
    "    \n",
    "    def __init__(self, index: pyndri.Index, inverted_index: collections.defaultdict(dict), col_freq: collections.defaultdict(int), tf_transform: str):\n",
    "        \"\"\"Initialize tf-idf scoring function.\n",
    "        \n",
    "        Args:\n",
    "            index: pyndry index for the entire collection.\n",
    "            inverted_index: dict of term frequencies per document.\n",
    "            col_freq: dict of term frequencies for the entire collection.\n",
    "            tf_transform: string denoting possible sublinear tf transformations. accepted values are: `log`\n",
    "        \"\"\"\n",
    "        self.index = index\n",
    "        self.inverted_index = inverted_index\n",
    "        self.col_freq = col_freq\n",
    "        self.col_size = index.maximum_document() - index.document_base()\n",
    "        self.tf_transform = tf_transform\n",
    "\n",
    "    def score(self, int_doc_id: int, query_term_id: int, doc_term_freq: int) -> float:\n",
    "        \"\"\"Scoring method for a document and a query term.\n",
    "\n",
    "        Args:\n",
    "            int_doc_id: the document id.\n",
    "            query_term_id: the query term id (assuming you have split the query to tokens).\n",
    "            doc_term_freq: the document term frequency of the query term.\n",
    "        \"\"\"\n",
    "        if self.tf_transform == 'log':\n",
    "            wtf = self.log_tf(doc_term_freq)\n",
    "        else:\n",
    "            raise ValueError('Unsupported term frequency transformation specified: {}'.format(self.tf_transform))\n",
    "        idf = self.idf(query_term_id)\n",
    "        \n",
    "        return wtf * idf\n",
    "    \n",
    "    def log_tf(self, doc_term_freq: int)-> float:\n",
    "        \"\"\"Apply sublinear transformation to document query term frequency.\n",
    "        \n",
    "        Args:\n",
    "            doc_term_freq: the document term frequency for the query term.\n",
    "            \n",
    "        Return:\n",
    "            Log sublinear transformation.\n",
    "        \"\"\"\n",
    "        return 1 + math.log(doc_term_freq)\n",
    "    \n",
    "    def idf(self, query_term_id: int) -> float:\n",
    "        \"\"\"Calculate inverted document frequency.\n",
    "        \n",
    "        Args:\n",
    "            query_term_id: pyndri query term id.\n",
    "        Return:\n",
    "            Inverted document frequency.\n",
    "        \"\"\"\n",
    "        return math.log(self.col_size) - math.log(self.df(query_term_id))\n",
    "    \n",
    "    def df(self, query_term_id: int) -> int:\n",
    "        \"\"\"Calculate document frequency of query term.\n",
    "        \n",
    "        Args:\n",
    "            query_term_id: pyndri query term id.\n",
    "        Return:\n",
    "            Length of the inverted index for the query.\n",
    "        \"\"\"\n",
    "        return len(self.inverted_index[query_term_id])"
   ]
  }
 ],
 "metadata": {
  "kernelspec": {
   "display_name": "Python 3",
   "language": "python",
   "name": "python3"
  },
  "language_info": {
   "codemirror_mode": {
    "name": "ipython",
    "version": 3
   },
   "file_extension": ".py",
   "mimetype": "text/x-python",
   "name": "python",
   "nbconvert_exporter": "python",
   "pygments_lexer": "ipython3",
   "version": "3.6.3"
  }
 },
 "nbformat": 4,
 "nbformat_minor": 2
}
