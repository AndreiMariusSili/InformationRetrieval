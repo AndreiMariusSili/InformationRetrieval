{
 "cells": [
  {
   "cell_type": "code",
   "execution_count": 1,
   "metadata": {},
   "outputs": [
    {
     "name": "stdout",
     "output_type": "stream",
     "text": [
      "Trying to load statistics from file...Success!\n"
     ]
    },
    {
     "name": "stderr",
     "output_type": "stream",
     "text": [
      "/Users/andrei/anaconda3/lib/python3.6/site-packages/sklearn/cross_validation.py:41: DeprecationWarning: This module was deprecated in version 0.18 in favor of the model_selection module into which all the refactored classes and functions are moved. Also note that the interface of the new CV iterators are different from that of this module. This module will be removed in 0.20.\n",
      "  \"This module will be removed in 0.20.\", DeprecationWarning)\n"
     ]
    }
   ],
   "source": [
    "import collections\n",
    "import io\n",
    "import time\n",
    "import math\n",
    "import pickle\n",
    "import os\n",
    "import pyndri\n",
    "import pyndri.compat\n",
    "import logging\n",
    "import sys\n",
    "import numpy as np\n",
    "import gensim\n",
    "import pandas as pd\n",
    "from Helper import *\n",
    "\n",
    "from copy import deepcopy\n",
    "from sklearn.linear_model import LogisticRegression, LogisticRegressionCV\n",
    "from sklearn.cross_validation import cross_val_score, cross_val_predict\n",
    "from sklearn.model_selection import KFold"
   ]
  },
  {
   "cell_type": "code",
   "execution_count": 2,
   "metadata": {},
   "outputs": [],
   "source": [
    "def load_pickle(fpath):\n",
    "    with open(fpath, 'rb') as file:\n",
    "        return pickle.load(file)\n",
    "\n",
    "\n",
    "def save_pickle(obj, fpath):\n",
    "    with open(fpath, 'wb') as file:\n",
    "        pickle.dump(obj, file)"
   ]
  },
  {
   "cell_type": "code",
   "execution_count": 8,
   "metadata": {},
   "outputs": [],
   "source": [
    "X_cols = ['TF-IDF', 'LDA', 'LSI', 'dp_mu_500', 'GLM_top1000docs_sigma50_mu1000', 'doc_len', 'query_len']\n",
    "y_cols = ['relevance_label']\n",
    "\n",
    "training_data = load_pickle('../pickles/LTR_DF_Training.pkl')\n",
    "X_train = training_data[X_cols]\n",
    "y_train = training_data[y_cols].values.ravel()\n",
    "normalized_X_train = (X_train - X_train.mean()) / X_train.std()\n",
    "normalized_X_train = normalized_X_train.values\n",
    "\n",
    "validation_data = load_pickle('../pickles/LTR_DF_Validation.pkl')\n",
    "X_validate = validation_data[X_cols]\n",
    "y_validate = validation_data[y_cols].values.ravel()\n",
    "normalized_X_validate = (X_validate - X_validate.mean()) / X_validate.std()\n",
    "normalized_X_validate = normalized_X_validate.values"
   ]
  },
  {
   "cell_type": "code",
   "execution_count": 9,
   "metadata": {},
   "outputs": [],
   "source": [
    "log_reg_cv = LogisticRegressionCV(cv=10, solver='lbfgs', penalty='l2')"
   ]
  },
  {
   "cell_type": "code",
   "execution_count": 10,
   "metadata": {},
   "outputs": [
    {
     "data": {
      "text/plain": [
       "LogisticRegressionCV(Cs=10, class_weight=None, cv=10, dual=False,\n",
       "           fit_intercept=True, intercept_scaling=1.0, max_iter=100,\n",
       "           multi_class='ovr', n_jobs=1, penalty='l2', random_state=None,\n",
       "           refit=True, scoring=None, solver='lbfgs', tol=0.0001, verbose=0)"
      ]
     },
     "execution_count": 10,
     "metadata": {},
     "output_type": "execute_result"
    }
   ],
   "source": [
    "log_reg_cv.fit(normalized_X_train, y_train)"
   ]
  },
  {
   "cell_type": "code",
   "execution_count": 14,
   "metadata": {},
   "outputs": [],
   "source": [
    "results = log_reg_cv.predict(normalized_X_validate)"
   ]
  },
  {
   "cell_type": "code",
   "execution_count": 18,
   "metadata": {},
   "outputs": [
    {
     "data": {
      "text/plain": [
       "array([ 0.,  0.,  0., ...,  0.,  0.,  0.])"
      ]
     },
     "execution_count": 18,
     "metadata": {},
     "output_type": "execute_result"
    }
   ],
   "source": [
    "results"
   ]
  },
  {
   "cell_type": "code",
   "execution_count": 40,
   "metadata": {},
   "outputs": [],
   "source": [
    "validation_data['relevance_result'] = results"
   ]
  },
  {
   "cell_type": "code",
   "execution_count": 41,
   "metadata": {},
   "outputs": [
    {
     "data": {
      "text/html": [
       "<div>\n",
       "<style scoped>\n",
       "    .dataframe tbody tr th:only-of-type {\n",
       "        vertical-align: middle;\n",
       "    }\n",
       "\n",
       "    .dataframe tbody tr th {\n",
       "        vertical-align: top;\n",
       "    }\n",
       "\n",
       "    .dataframe thead th {\n",
       "        text-align: right;\n",
       "    }\n",
       "</style>\n",
       "<table border=\"1\" class=\"dataframe\">\n",
       "  <thead>\n",
       "    <tr style=\"text-align: right;\">\n",
       "      <th></th>\n",
       "      <th>query_id</th>\n",
       "      <th>int_doc_id</th>\n",
       "      <th>ext_doc_id</th>\n",
       "      <th>relevance_label</th>\n",
       "      <th>TF-IDF</th>\n",
       "      <th>LDA</th>\n",
       "      <th>LSI</th>\n",
       "      <th>dp_mu_500</th>\n",
       "      <th>GLM_top1000docs_sigma50_mu1000</th>\n",
       "      <th>doc_len</th>\n",
       "      <th>query_len</th>\n",
       "      <th>results</th>\n",
       "      <th>result</th>\n",
       "      <th>relevance_result</th>\n",
       "    </tr>\n",
       "  </thead>\n",
       "  <tbody>\n",
       "    <tr>\n",
       "      <th>69~AP880216-0127</th>\n",
       "      <td>69</td>\n",
       "      <td>94866</td>\n",
       "      <td>AP880216-0127</td>\n",
       "      <td>0</td>\n",
       "      <td>12.998833</td>\n",
       "      <td>0.808140</td>\n",
       "      <td>0.635558</td>\n",
       "      <td>-4.133619</td>\n",
       "      <td>-47.496657</td>\n",
       "      <td>440.0</td>\n",
       "      <td>5.0</td>\n",
       "      <td>0.0</td>\n",
       "      <td>0.0</td>\n",
       "      <td>0.0</td>\n",
       "    </tr>\n",
       "    <tr>\n",
       "      <th>69~AP880217-0029</th>\n",
       "      <td>69</td>\n",
       "      <td>130037</td>\n",
       "      <td>AP880217-0029</td>\n",
       "      <td>0</td>\n",
       "      <td>12.318767</td>\n",
       "      <td>0.765000</td>\n",
       "      <td>0.610453</td>\n",
       "      <td>-4.207090</td>\n",
       "      <td>-46.076589</td>\n",
       "      <td>283.0</td>\n",
       "      <td>5.0</td>\n",
       "      <td>0.0</td>\n",
       "      <td>0.0</td>\n",
       "      <td>0.0</td>\n",
       "    </tr>\n",
       "    <tr>\n",
       "      <th>69~AP880217-0156</th>\n",
       "      <td>69</td>\n",
       "      <td>130164</td>\n",
       "      <td>AP880217-0156</td>\n",
       "      <td>0</td>\n",
       "      <td>11.925768</td>\n",
       "      <td>0.792726</td>\n",
       "      <td>0.384661</td>\n",
       "      <td>-4.296502</td>\n",
       "      <td>-45.694837</td>\n",
       "      <td>317.0</td>\n",
       "      <td>5.0</td>\n",
       "      <td>0.0</td>\n",
       "      <td>0.0</td>\n",
       "      <td>0.0</td>\n",
       "    </tr>\n",
       "    <tr>\n",
       "      <th>69~AP880219-0069</th>\n",
       "      <td>69</td>\n",
       "      <td>157235</td>\n",
       "      <td>AP880219-0069</td>\n",
       "      <td>0</td>\n",
       "      <td>10.413368</td>\n",
       "      <td>0.840270</td>\n",
       "      <td>0.581214</td>\n",
       "      <td>-4.796670</td>\n",
       "      <td>-48.726499</td>\n",
       "      <td>364.0</td>\n",
       "      <td>5.0</td>\n",
       "      <td>0.0</td>\n",
       "      <td>0.0</td>\n",
       "      <td>0.0</td>\n",
       "    </tr>\n",
       "    <tr>\n",
       "      <th>69~AP880219-0139</th>\n",
       "      <td>69</td>\n",
       "      <td>157305</td>\n",
       "      <td>AP880219-0139</td>\n",
       "      <td>0</td>\n",
       "      <td>12.674277</td>\n",
       "      <td>0.820857</td>\n",
       "      <td>0.639198</td>\n",
       "      <td>-4.192220</td>\n",
       "      <td>-47.199983</td>\n",
       "      <td>354.0</td>\n",
       "      <td>5.0</td>\n",
       "      <td>0.0</td>\n",
       "      <td>0.0</td>\n",
       "      <td>0.0</td>\n",
       "    </tr>\n",
       "  </tbody>\n",
       "</table>\n",
       "</div>"
      ],
      "text/plain": [
       "                 query_id int_doc_id     ext_doc_id relevance_label  \\\n",
       "69~AP880216-0127       69      94866  AP880216-0127               0   \n",
       "69~AP880217-0029       69     130037  AP880217-0029               0   \n",
       "69~AP880217-0156       69     130164  AP880217-0156               0   \n",
       "69~AP880219-0069       69     157235  AP880219-0069               0   \n",
       "69~AP880219-0139       69     157305  AP880219-0139               0   \n",
       "\n",
       "                     TF-IDF       LDA       LSI  dp_mu_500  \\\n",
       "69~AP880216-0127  12.998833  0.808140  0.635558  -4.133619   \n",
       "69~AP880217-0029  12.318767  0.765000  0.610453  -4.207090   \n",
       "69~AP880217-0156  11.925768  0.792726  0.384661  -4.296502   \n",
       "69~AP880219-0069  10.413368  0.840270  0.581214  -4.796670   \n",
       "69~AP880219-0139  12.674277  0.820857  0.639198  -4.192220   \n",
       "\n",
       "                  GLM_top1000docs_sigma50_mu1000  doc_len  query_len  results  \\\n",
       "69~AP880216-0127                      -47.496657    440.0        5.0      0.0   \n",
       "69~AP880217-0029                      -46.076589    283.0        5.0      0.0   \n",
       "69~AP880217-0156                      -45.694837    317.0        5.0      0.0   \n",
       "69~AP880219-0069                      -48.726499    364.0        5.0      0.0   \n",
       "69~AP880219-0139                      -47.199983    354.0        5.0      0.0   \n",
       "\n",
       "                  result  relevance_result  \n",
       "69~AP880216-0127     0.0               0.0  \n",
       "69~AP880217-0029     0.0               0.0  \n",
       "69~AP880217-0156     0.0               0.0  \n",
       "69~AP880219-0069     0.0               0.0  \n",
       "69~AP880219-0139     0.0               0.0  "
      ]
     },
     "execution_count": 41,
     "metadata": {},
     "output_type": "execute_result"
    }
   ],
   "source": [
    "validation_data.head()"
   ]
  },
  {
   "cell_type": "code",
   "execution_count": 42,
   "metadata": {},
   "outputs": [],
   "source": [
    "validation_data.sort_values(by=['query_id', 'relevance_result'], ascending=[True, False], inplace=True)"
   ]
  },
  {
   "cell_type": "code",
   "execution_count": 28,
   "metadata": {},
   "outputs": [],
   "source": [
    "data = collections.defaultdict(list)\n",
    "\n",
    "for idx, row in validation_data.iterrows():\n",
    "    data[row['query_id']].append((row['results'], row['ext_doc_id']))"
   ]
  },
  {
   "cell_type": "code",
   "execution_count": 31,
   "metadata": {},
   "outputs": [],
   "source": [
    "with open('log_reg.run', 'w') as f_out:\n",
    "    write_run(\n",
    "        model_name='LogReg',\n",
    "        data=data,\n",
    "        out_f=f_out,\n",
    "        max_objects_per_query=1000)"
   ]
  }
 ],
 "metadata": {
  "kernelspec": {
   "display_name": "Python 3",
   "language": "python",
   "name": "python3"
  },
  "language_info": {
   "codemirror_mode": {
    "name": "ipython",
    "version": 3
   },
   "file_extension": ".py",
   "mimetype": "text/x-python",
   "name": "python",
   "nbconvert_exporter": "python",
   "pygments_lexer": "ipython3",
   "version": "3.6.4"
  }
 },
 "nbformat": 4,
 "nbformat_minor": 2
}
